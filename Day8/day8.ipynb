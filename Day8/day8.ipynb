{
 "cells": [
  {
   "cell_type": "code",
   "execution_count": 1,
   "metadata": {},
   "outputs": [],
   "source": [
    "def read_input(file_name):\n",
    "    with open(file_name, 'r') as file:\n",
    "        inputs = file.read().splitlines()\n",
    "        directions = inputs.pop(0)\n",
    "        inputs.pop(0)\n",
    "        coords = {coord.split(' = ')[0]: coord.split(' = ')[1].translate(str.maketrans('', '', '()')).split(', ') for coord in inputs}\n",
    "\n",
    "        return directions, coords"
   ]
  },
  {
   "cell_type": "code",
   "execution_count": 2,
   "metadata": {},
   "outputs": [],
   "source": [
    "def get_num_steps(file_name):\n",
    "    directions, coords = read_input(file_name)\n",
    "\n",
    "    steps = 0\n",
    "    cur_coord = 'AAA'\n",
    "\n",
    "    while cur_coord != 'ZZZ':\n",
    "        direction = directions[steps % len(directions)]\n",
    "        cur_coord = coords[cur_coord][0] if direction == 'L' else coords[cur_coord][1]\n",
    "        steps += 1\n",
    "\n",
    "    return steps"
   ]
  },
  {
   "cell_type": "code",
   "execution_count": 3,
   "metadata": {},
   "outputs": [
    {
     "data": {
      "text/plain": [
       "20777"
      ]
     },
     "execution_count": 3,
     "metadata": {},
     "output_type": "execute_result"
    }
   ],
   "source": [
    "get_num_steps(\"input.txt\")"
   ]
  },
  {
   "cell_type": "code",
   "execution_count": 4,
   "metadata": {},
   "outputs": [],
   "source": [
    "def get_num_steps_mult(file_name, starting_coords):\n",
    "    directions, coords = read_input(file_name)\n",
    "\n",
    "    cur_coords = starting_coords\n",
    "    steps = 0\n",
    "\n",
    "    while not all(coord[2] == 'Z' for coord in cur_coords):\n",
    "        direction = directions[steps % len(directions)]\n",
    "        cur_coords = [coords[cur_coord][0] if direction == 'L' else coords[cur_coord][1] for cur_coord in cur_coords]\n",
    "        steps += 1\n",
    "\n",
    "    return steps"
   ]
  },
  {
   "cell_type": "code",
   "execution_count": 5,
   "metadata": {},
   "outputs": [],
   "source": [
    "def get_coords_pattern(file_name, starting_coord):\n",
    "    directions, coords = read_input(file_name)\n",
    "\n",
    "    steps = 0\n",
    "    cur_coord = starting_coord\n",
    "    coords_pattern = []\n",
    "\n",
    "    while [cur_coord, steps % len(directions)] not in coords_pattern:\n",
    "        coords_pattern.append([cur_coord, steps % len(directions)])\n",
    "        direction = directions[steps % len(directions)]\n",
    "        cur_coord = coords[cur_coord][0] if direction == 'L' else coords[cur_coord][1]\n",
    "        steps += 1\n",
    "\n",
    "    return coords_pattern, [cur_coord, steps % len(directions)]"
   ]
  },
  {
   "cell_type": "code",
   "execution_count": 6,
   "metadata": {},
   "outputs": [],
   "source": [
    "def get_steps_last_Z(file_name, starting_coord):\n",
    "    directions, coords = read_input(file_name)\n",
    "\n",
    "    steps = 0\n",
    "    cur_coord = starting_coord\n",
    "\n",
    "    while cur_coord[2] != 'Z':\n",
    "        direction = directions[steps % len(directions)]\n",
    "        cur_coord = coords[cur_coord][0] if direction == 'L' else coords[cur_coord][1]\n",
    "        steps += 1\n",
    "\n",
    "    return steps"
   ]
  },
  {
   "cell_type": "code",
   "execution_count": 7,
   "metadata": {},
   "outputs": [
    {
     "data": {
      "text/plain": [
       "['JQA', 'NHA', 'AAA', 'FSA', 'LLA', 'MNA']"
      ]
     },
     "execution_count": 7,
     "metadata": {},
     "output_type": "execute_result"
    }
   ],
   "source": [
    "directions, coords = read_input('input.txt')\n",
    "cur_coords = [coord for coord in coords if coord[2] == 'A']\n",
    "cur_coords"
   ]
  },
  {
   "cell_type": "code",
   "execution_count": 20,
   "metadata": {},
   "outputs": [
    {
     "name": "stdout",
     "output_type": "stream",
     "text": [
      "3 [(13939, ['SCZ', 0])] 13942\n",
      "3 [(11309, ['DDZ', 0])] 11312\n",
      "2 [(20777, ['ZZZ', 0])] 20779\n",
      "2 [(15517, ['PTZ', 0])] 15519\n",
      "4 [(17621, ['NQZ', 0])] 17625\n",
      "2 [(18673, ['GVZ', 0])] 18675\n"
     ]
    }
   ],
   "source": [
    "for coord in cur_coords:\n",
    "     coords_pattern, first_step = get_coords_pattern('input.txt', coord)\n",
    "\n",
    "     steps_of_Z = [(i, coord_pat) for i, coord_pat in enumerate(coords_pattern) if coord_pat[0][2] == 'Z']\n",
    "     steps_to_start_cycle = coords_pattern.index(first_step)\n",
    "\n",
    "     print(str(steps_to_start_cycle) + \" \" + str(steps_of_Z) + \" \" + str(len(coords_pattern)))"
   ]
  }
 ],
 "metadata": {
  "kernelspec": {
   "display_name": "Python 3",
   "language": "python",
   "name": "python3"
  },
  "language_info": {
   "codemirror_mode": {
    "name": "ipython",
    "version": 3
   },
   "file_extension": ".py",
   "mimetype": "text/x-python",
   "name": "python",
   "nbconvert_exporter": "python",
   "pygments_lexer": "ipython3",
   "version": "3.11.2"
  }
 },
 "nbformat": 4,
 "nbformat_minor": 2
}
