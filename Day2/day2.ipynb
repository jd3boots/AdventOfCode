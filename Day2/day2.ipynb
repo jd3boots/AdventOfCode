{
 "cells": [
  {
   "cell_type": "code",
   "execution_count": 49,
   "metadata": {},
   "outputs": [],
   "source": [
    "with open(\"input.txt\", 'r') as file:\n",
    "    inputs = file.read().splitlines()"
   ]
  },
  {
   "cell_type": "code",
   "execution_count": 50,
   "metadata": {},
   "outputs": [],
   "source": [
    "valid_color_map = {'blue': 14, 'green': 13, 'red': 12}\n",
    "\n",
    "def validGame(game):\n",
    "    game = game.split(\": \")[1].split(\"; \")\n",
    "\n",
    "    for round in game:\n",
    "        round_color_map = {color.split()[1]: int(color.split()[0]) for color in round.split(', ')}\n",
    "\n",
    "        if not validRound(round_color_map):\n",
    "            return False\n",
    "    \n",
    "    return True\n",
    "        \n",
    "def validRound(round):\n",
    "    for key in round.keys():\n",
    "        if round[key] > valid_color_map[key]:\n",
    "            return False\n",
    "    return True"
   ]
  },
  {
   "cell_type": "code",
   "execution_count": 51,
   "metadata": {},
   "outputs": [
    {
     "data": {
      "text/plain": [
       "2369"
      ]
     },
     "execution_count": 51,
     "metadata": {},
     "output_type": "execute_result"
    }
   ],
   "source": [
    "sum([i + 1 for i, game in enumerate(inputs) if validGame(game)])"
   ]
  },
  {
   "cell_type": "code",
   "execution_count": 52,
   "metadata": {},
   "outputs": [],
   "source": [
    "def getMaxColorMap(game):\n",
    "    game = game.split(\": \")[1].split(\"; \")\n",
    "    max_color_map = {}\n",
    "    \n",
    "    for round in game:\n",
    "        round_color_map = {color.split()[1]: int(color.split()[0]) for color in round.split(', ')}\n",
    "\n",
    "        for key in round_color_map.keys():\n",
    "            if key not in max_color_map.keys():\n",
    "                max_color_map[key] = round_color_map[key]\n",
    "            else:\n",
    "                max_color_map[key] = max(round_color_map[key], max_color_map[key])\n",
    "    \n",
    "\n",
    "    prod = 1\n",
    "    for key in max_color_map.keys():\n",
    "        prod *= max_color_map[key]\n",
    "    \n",
    "    return prod"
   ]
  },
  {
   "cell_type": "code",
   "execution_count": 53,
   "metadata": {},
   "outputs": [
    {
     "data": {
      "text/plain": [
       "66363"
      ]
     },
     "execution_count": 53,
     "metadata": {},
     "output_type": "execute_result"
    }
   ],
   "source": [
    "sum([getMaxColorMap(x) for x in inputs])"
   ]
  }
 ],
 "metadata": {
  "kernelspec": {
   "display_name": "Python 3",
   "language": "python",
   "name": "python3"
  },
  "language_info": {
   "codemirror_mode": {
    "name": "ipython",
    "version": 3
   },
   "file_extension": ".py",
   "mimetype": "text/x-python",
   "name": "python",
   "nbconvert_exporter": "python",
   "pygments_lexer": "ipython3",
   "version": "3.11.2"
  }
 },
 "nbformat": 4,
 "nbformat_minor": 2
}
