{
 "cells": [
  {
   "cell_type": "code",
   "execution_count": 3,
   "metadata": {},
   "outputs": [],
   "source": [
    "def read_input(file_name):\n",
    "    with open(file_name, 'r') as file:\n",
    "        inputs = file.read().splitlines()\n",
    "        return [[j[0], [int(k) for k in j[1].split(',') ]] for j in [i.split() for i in inputs]]"
   ]
  },
  {
   "cell_type": "code",
   "execution_count": 144,
   "metadata": {},
   "outputs": [],
   "source": [
    "def try_all_comb2(row):\n",
    "    pattern = [x for x in row[0].split('.') if x != '']\n",
    "    nums = row[1]\n",
    "\n",
    "    return try_next_num2(pattern, nums)\n",
    "\n",
    "def try_next_num2(pattern, nums):\n",
    "    if len(nums) == 0:\n",
    "        return 0 if any(['#' in pat for pat in pattern]) else 1\n",
    "\n",
    "    if len(pattern) == 0:\n",
    "        return 0\n",
    "\n",
    "    result = 0\n",
    "    pat = pattern[0]\n",
    "    num = nums[0]\n",
    "    \n",
    "    for i in range(len(pat) - num + 1):\n",
    "        if '#' in pat[:i]:\n",
    "            return result\n",
    "\n",
    "        if (i == 0 or pat[i - 1] == '?') and (i + num == len(pat) or pat[i + num] == '?'):\n",
    "            new_pattern = ([pat[i + num + 1:]] if i + num + 1 < len(pat) else []) + pattern[1:]\n",
    "            result += try_next_num2(new_pattern, nums[1:])\n",
    "\n",
    "    if '#' not in pat:\n",
    "        result += try_next_num2(pattern[1:], nums)\n",
    "\n",
    "    return result"
   ]
  },
  {
   "cell_type": "code",
   "execution_count": 158,
   "metadata": {},
   "outputs": [],
   "source": [
    "def try_all_comb(row):\n",
    "    pattern = row[0]\n",
    "    nums = row[1]\n",
    "\n",
    "    return try_next_num(pattern, nums)\n",
    "\n",
    "def try_next_num(pattern, nums):\n",
    "    if '#' not in pattern:\n",
    "        return get_non_hash_value([x for x in pattern.split('.') if x != ''], nums)\n",
    "\n",
    "    result = 0\n",
    "    first_hash = [i for i, sym in enumerate(pattern) if sym == '#'][0]\n",
    "    for k, num in enumerate(nums):\n",
    "        for i in range(num):\n",
    "            index = i + first_hash - num + 1\n",
    "            if 0 <= index and index + num <= len(pattern) and (index == 0 or pattern[index - 1] != '#') and (index + num == len(pattern) or pattern[index + num] != '#') and '.' not in pattern[index:index + num]:\n",
    "                r1 = try_next_num(pattern[:index - 1] if index > 0 else '', nums[:k])\n",
    "                r2 = 0 if r1 == 0 else try_next_num(pattern[index+num+1:], nums[k+1:])\n",
    "                result += r1 * r2\n",
    "    return result\n",
    "\n",
    "def get_non_hash_value(pattern, nums):\n",
    "    if len(nums) == 0:\n",
    "        return 1\n",
    "    \n",
    "    if len(pattern) == 0:\n",
    "        return 0\n",
    "\n",
    "    result = 0\n",
    "    pat = pattern[0]\n",
    "    num = nums[0]\n",
    "    \n",
    "    for i in range(len(pat) - num + 1):\n",
    "        if (i == 0 or pat[i - 1] == '?') and (i + num == len(pat) or pat[i + num] == '?'):\n",
    "            new_pattern = ([pat[i + num + 1:]] if i + num + 1 < len(pat) else []) + pattern[1:]\n",
    "            result += get_non_hash_value(new_pattern, nums[1:])\n",
    "\n",
    "    result += get_non_hash_value(pattern[1:], nums)\n",
    "\n",
    "    return result"
   ]
  },
  {
   "cell_type": "code",
   "execution_count": 159,
   "metadata": {},
   "outputs": [
    {
     "data": {
      "text/plain": [
       "1"
      ]
     },
     "execution_count": 159,
     "metadata": {},
     "output_type": "execute_result"
    }
   ],
   "source": [
    "try_all_comb(result[4])"
   ]
  },
  {
   "cell_type": "code",
   "execution_count": 160,
   "metadata": {},
   "outputs": [
    {
     "data": {
      "text/plain": [
       "[1, 4, 1, 1, 4, 10]"
      ]
     },
     "execution_count": 160,
     "metadata": {},
     "output_type": "execute_result"
    }
   ],
   "source": [
    "result = read_input('sample_input.txt')\n",
    "[try_all_comb(r) for r in result]"
   ]
  },
  {
   "cell_type": "code",
   "execution_count": 161,
   "metadata": {},
   "outputs": [
    {
     "data": {
      "text/plain": [
       "7670"
      ]
     },
     "execution_count": 161,
     "metadata": {},
     "output_type": "execute_result"
    }
   ],
   "source": [
    "result = read_input('input.txt')\n",
    "sum([try_all_comb(r) for r in result])"
   ]
  },
  {
   "cell_type": "code",
   "execution_count": 162,
   "metadata": {},
   "outputs": [
    {
     "data": {
      "text/plain": [
       "7670"
      ]
     },
     "execution_count": 162,
     "metadata": {},
     "output_type": "execute_result"
    }
   ],
   "source": [
    "result = read_input('input.txt')\n",
    "sum([try_all_comb2(r) for r in result])"
   ]
  },
  {
   "cell_type": "code",
   "execution_count": 34,
   "metadata": {},
   "outputs": [
    {
     "data": {
      "text/plain": [
       "[['???.###', [1, 1, 3]],\n",
       " ['.??..??...?##.', [1, 1, 3]],\n",
       " ['?#?#?#?#?#?#?#?', [1, 3, 1, 6]],\n",
       " ['????.#...#...', [4, 1, 1]],\n",
       " ['????.######..#####.', [1, 6, 5]],\n",
       " ['?###????????', [3, 2, 1]]]"
      ]
     },
     "execution_count": 34,
     "metadata": {},
     "output_type": "execute_result"
    }
   ],
   "source": [
    "result"
   ]
  }
 ],
 "metadata": {
  "kernelspec": {
   "display_name": "Python 3",
   "language": "python",
   "name": "python3"
  },
  "language_info": {
   "codemirror_mode": {
    "name": "ipython",
    "version": 3
   },
   "file_extension": ".py",
   "mimetype": "text/x-python",
   "name": "python",
   "nbconvert_exporter": "python",
   "pygments_lexer": "ipython3",
   "version": "3.11.2"
  }
 },
 "nbformat": 4,
 "nbformat_minor": 2
}
