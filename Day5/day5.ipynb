{
 "cells": [
  {
   "cell_type": "code",
   "execution_count": 225,
   "metadata": {},
   "outputs": [],
   "source": [
    "with open(\"input.txt\", 'r') as file:\n",
    "    inputs = file.read().split(\"\\n\\n\")\n",
    "    seeds, *inputs = [i.split(':') for i in inputs]\n",
    "    seeds = [seed for seed in seeds[1].split(' ') if seed != '']\n",
    "    input_map = {key: [s.split() for s in value.splitlines() if s != ''] for key, value in inputs}\n",
    "\n",
    "with open(\"sample_input.txt\", 'r') as file:\n",
    "    inputs = file.read().split(\"\\n\\n\")\n",
    "    sample_seeds, *inputs = [i.split(':') for i in inputs]\n",
    "    sample_seeds = [seed for seed in sample_seeds[1].split(' ') if seed != '']\n",
    "    sample_input_map = {key: [s.split() for s in value.splitlines() if s != ''] for key, value in inputs}"
   ]
  },
  {
   "cell_type": "code",
   "execution_count": 226,
   "metadata": {},
   "outputs": [],
   "source": [
    "def GetMapValue(value, inputMap):\n",
    "    for s in inputMap:\n",
    "        destination_range_start = int(s[0])\n",
    "        source_range_start = int(s[1])\n",
    "        range_length = int(s[2])\n",
    "\n",
    "        if source_range_start <= value < source_range_start + range_length:\n",
    "            return destination_range_start + value - source_range_start\n",
    "    \n",
    "    return value\n",
    "\n",
    "def GetSeedValue(value, inputMap):\n",
    "    for key in input_map.keys():\n",
    "        value = GetMapValue(value, inputMap[key])\n",
    "    return value"
   ]
  },
  {
   "cell_type": "code",
   "execution_count": 227,
   "metadata": {},
   "outputs": [
    {
     "name": "stdout",
     "output_type": "stream",
     "text": [
      "82\n",
      "43\n",
      "86\n",
      "35\n"
     ]
    }
   ],
   "source": [
    "print(GetSeedValue(79, sample_input_map))\n",
    "print(GetSeedValue(14, sample_input_map))\n",
    "print(GetSeedValue(55, sample_input_map))\n",
    "print(GetSeedValue(13, sample_input_map))"
   ]
  },
  {
   "cell_type": "code",
   "execution_count": 228,
   "metadata": {},
   "outputs": [
    {
     "data": {
      "text/plain": [
       "240320250"
      ]
     },
     "execution_count": 228,
     "metadata": {},
     "output_type": "execute_result"
    }
   ],
   "source": [
    "min([GetSeedValue(int(seed), input_map) for seed in seeds])"
   ]
  },
  {
   "cell_type": "code",
   "execution_count": 229,
   "metadata": {},
   "outputs": [
    {
     "data": {
      "text/plain": [
       "[[3429320627, 235304036],\n",
       " [1147330745, 114559245],\n",
       " [1684000747, 468955901],\n",
       " [677937579, 96599505],\n",
       " [1436970021, 26560102],\n",
       " [3886049334, 159534901],\n",
       " [936845926, 25265009],\n",
       " [3247146679, 95841652],\n",
       " [3696363517, 45808572],\n",
       " [2319065313, 125950148]]"
      ]
     },
     "execution_count": 229,
     "metadata": {},
     "output_type": "execute_result"
    }
   ],
   "source": [
    "def GetSeedPairs(seeds):\n",
    "    seedPairs = [[int(seeds[2*i]), int(seeds[2*i + 1])] for i in range(int(len(seeds) / 2))]\n",
    "    ##return [s2[0] + i for s2 in seedPairs for i in range(s2[1])]\n",
    "    return seedPairs\n",
    "\n",
    "GetSeedPairs(seeds)\n",
    "\n",
    "#min([GetSeedValue(int(seed), input_map) for seed in seeds])"
   ]
  },
  {
   "cell_type": "code",
   "execution_count": 230,
   "metadata": {},
   "outputs": [],
   "source": [
    "def printMap(myMap):\n",
    "    return [str(s[1]) + '-' + str(s[1] + s[2] - 1) + ' -> ' + str(s[0]) + '-' + str(s[0] + s[2] - 1) for s in myMap]"
   ]
  },
  {
   "cell_type": "code",
   "execution_count": 231,
   "metadata": {},
   "outputs": [
    {
     "name": "stdout",
     "output_type": "stream",
     "text": [
      "['0-68 -> 1-69', '69-69 -> 0-0', '70-70 -> 70-70']\n",
      "['0-55 -> 0-55', '56-92 -> 60-96', '93-96 -> 56-59', '97-97 -> 97-97']\n"
     ]
    }
   ],
   "source": [
    "print(printMap(clean_map(sample_input_map['temperature-to-humidity map'])))\n",
    "print(printMap(clean_map(sample_input_map['humidity-to-location map'])))"
   ]
  },
  {
   "cell_type": "code",
   "execution_count": 266,
   "metadata": {},
   "outputs": [],
   "source": [
    "def clean_map(my_map):\n",
    "    values = [int(entry[1]) for entry in my_map]\n",
    "    if min(values) != 0:\n",
    "        my_map.append(['0', '0', str(min(values))])\n",
    "\n",
    "    max_index = values.index(max(values))\n",
    "    max_entry = my_map[max_index]\n",
    "    if my_map[max_index][2] != '1' or my_map[max_index][0] != my_map[max_index][1]:\n",
    "        my_map.append([str(int(max_entry[1]) + int(max_entry[2])), str(int(max_entry[1]) + int(max_entry[2])), str(1)])\n",
    "\n",
    "    values = [int(entry[1]) for entry in my_map]\n",
    "    sorted_indexes = sorted(range(len(values)),key=values.__getitem__)\n",
    "    my_map = [my_map[i] for i in sorted_indexes]\n",
    "    my_map = [[int(m[0]), int(m[1]), int(m[2])] for m in my_map]\n",
    "    return my_map\n",
    "\n",
    "def mergeMaps(inputMap, outputMap):\n",
    "    maxValue = max(max([element[1] for element in inputMap]), max([element[1] for element in outputMap]))\n",
    "\n",
    "    newMap = []\n",
    "    input_i = 0\n",
    "    curInput = inputMap[input_i][1]\n",
    "    curRange = 0\n",
    "    while curInput < maxValue:\n",
    "        curInput += curRange\n",
    "\n",
    "        inputValue = GetMapValue(curInput, inputMap)\n",
    "        outputValue = GetMapValue(inputValue, outputMap)\n",
    "\n",
    "        inputRange = inputMap[input_i][1] + inputMap[input_i][2] - curInput\n",
    "\n",
    "        output_i = 0\n",
    "        while outputMap[output_i][1] + outputMap[output_i][2] <= inputValue:\n",
    "            output_i += 1\n",
    "            if output_i == len(outputMap) - 1:\n",
    "                break\n",
    "\n",
    "        outputRange = outputMap[output_i][1] + outputMap[output_i][2] - inputValue\n",
    "\n",
    "        print(\"Current Input: \" + str(curInput) + \"\\n\" + \"Input:  Index \" + str(input_i) + \" Value \" + str(inputValue) + \" Range \" + str(inputRange) + \"\\nOutput: Index \" + str(output_i) + \" Value \" + str(outputValue) + \" Range \" + str(outputRange) +\"\\n\")\n",
    "\n",
    "        if output_i == len(outputMap) - 1 or (input_i != len(inputMap) - 1 and inputRange < outputRange and inputRange > 0):\n",
    "            curRange = inputRange\n",
    "            input_i += 1\n",
    "        else:\n",
    "            curRange = outputRange\n",
    "\n",
    "        newMap.append([outputValue, curInput, curRange])\n",
    "    \n",
    "    return clean_map(newMap)\n",
    "\n",
    "\n",
    "def MergeAllMaps():\n",
    "    keys = list(input_map.keys())\n",
    "\n",
    "    curMap = clean_map(sample_input_map[keys[0]])\n",
    "\n",
    "    for i in range(1, len(keys)):\n",
    "        curMap = mergeMaps(curMap, clean_map(sample_input_map[keys[i]]))\n",
    "    return curMap"
   ]
  },
  {
   "cell_type": "code",
   "execution_count": 267,
   "metadata": {},
   "outputs": [
    {
     "name": "stdout",
     "output_type": "stream",
     "text": [
      "Current Input: 0\n",
      "Input:  Index 0 Value 1 Range 69\n",
      "Output: Index 0 Value 1 Range 55\n",
      "\n",
      "Current Input: 55\n",
      "Input:  Index 0 Value 56 Range 14\n",
      "Output: Index 1 Value 60 Range 37\n",
      "\n",
      "Current Input: 69\n",
      "Input:  Index 1 Value 0 Range 1\n",
      "Output: Index 0 Value 0 Range 56\n",
      "\n",
      "Current Input: 70\n",
      "Input:  Index 2 Value 70 Range 1\n",
      "Output: Index 1 Value 74 Range 23\n",
      "\n",
      "Current Input: 93\n",
      "Input:  Index 2 Value 93 Range -22\n",
      "Output: Index 2 Value 56 Range 4\n",
      "\n",
      "Current Input: 97\n",
      "Input:  Index 2 Value 97 Range -26\n",
      "Output: Index 3 Value 97 Range 1\n",
      "\n"
     ]
    },
    {
     "data": {
      "text/plain": [
       "[[1, 0, 55],\n",
       " [60, 55, 14],\n",
       " [0, 69, 1],\n",
       " [74, 70, 23],\n",
       " [71, 71, 1],\n",
       " [56, 93, 4],\n",
       " [97, 97, -26]]"
      ]
     },
     "execution_count": 267,
     "metadata": {},
     "output_type": "execute_result"
    }
   ],
   "source": [
    "inputMap = clean_map(sample_input_map['temperature-to-humidity map'])\n",
    "outputMap = clean_map(sample_input_map['humidity-to-location map'])\n",
    "\n",
    "mergeMaps(inputMap, outputMap)"
   ]
  },
  {
   "cell_type": "code",
   "execution_count": 261,
   "metadata": {},
   "outputs": [
    {
     "name": "stdout",
     "output_type": "stream",
     "text": [
      "['0-68 -> 1-69', '69-69 -> 0-0', '70-70 -> 70-70']\n",
      "['0-55 -> 0-55', '56-92 -> 60-96', '93-96 -> 56-59', '97-97 -> 97-97']\n"
     ]
    }
   ],
   "source": [
    "print(printMap(inputMap))\n",
    "print(printMap(outputMap))"
   ]
  },
  {
   "cell_type": "code",
   "execution_count": 241,
   "metadata": {},
   "outputs": [],
   "source": [
    "mergedMaps = MergeAllMaps()"
   ]
  },
  {
   "cell_type": "code",
   "execution_count": 244,
   "metadata": {},
   "outputs": [
    {
     "data": {
      "text/plain": [
       "78"
      ]
     },
     "execution_count": 244,
     "metadata": {},
     "output_type": "execute_result"
    }
   ],
   "source": [
    "GetMapValue(79, mergedMaps)"
   ]
  },
  {
   "cell_type": "code",
   "execution_count": 249,
   "metadata": {},
   "outputs": [],
   "source": [
    "test = mergeMaps(clean_map(sample_input_map['seed-to-soil map']), clean_map(sample_input_map['soil-to-fertilizer map']))"
   ]
  },
  {
   "cell_type": "code",
   "execution_count": 251,
   "metadata": {},
   "outputs": [
    {
     "name": "stdout",
     "output_type": "stream",
     "text": [
      "81\n",
      "53\n",
      "57\n",
      "52\n"
     ]
    }
   ],
   "source": [
    "print(GetMapValue(79, test))\n",
    "print(GetMapValue(14, test))\n",
    "print(GetMapValue(55, test))\n",
    "print(GetMapValue(13, test))"
   ]
  },
  {
   "cell_type": "code",
   "execution_count": 252,
   "metadata": {},
   "outputs": [
    {
     "data": {
      "text/plain": [
       "[[39, 0, 15],\n",
       " [0, 15, 35],\n",
       " [37, 50, 2],\n",
       " [54, 52, 46],\n",
       " [35, 98, 2],\n",
       " [100, 100, 1],\n",
       " [101, 101, 1]]"
      ]
     },
     "execution_count": 252,
     "metadata": {},
     "output_type": "execute_result"
    }
   ],
   "source": [
    "test"
   ]
  },
  {
   "cell_type": "code",
   "execution_count": 219,
   "metadata": {},
   "outputs": [
    {
     "name": "stdout",
     "output_type": "stream",
     "text": [
      "100\n",
      "Current Input: 0\n",
      "Input: Index 0 Value 0 Range 50\n",
      "Output: Index 0 Value 39 Range 15\n",
      "\n",
      "Current Input: 15\n",
      "Input: Index 0 Value 15 Range 35\n",
      "Output: Index 1 Value 0 Range 37\n",
      "\n",
      "Current Input: 50\n",
      "Input: Index 1 Value 52 Range 48\n",
      "Output: Index 2 Value 37 Range 2\n",
      "\n",
      "Current Input: 52\n",
      "Input: Index 1 Value 54 Range 46\n",
      "Output: Index 3 Value 54 Range 1\n",
      "\n",
      "Current Input: 98\n",
      "Input: Index 2 Value 50 Range 2\n",
      "Output: Index 2 Value 35 Range 4\n",
      "\n",
      "Current Input: 100\n",
      "Input: Index 3 Value 100 Range 1\n",
      "Output: Index 3 Value 100 Range -45\n",
      "\n"
     ]
    }
   ],
   "source": [
    "myMap = mergeMaps(clean_map(sample_input_map[keys[0]]), clean_map(sample_input_map[keys[1]]))\n",
    "#myMap = mergeMaps(myMap, clean_map(sample_input_map[keys[3]]))\n",
    "#myMap = mergeMaps(myMap, clean_map(sample_input_map[keys[4]]))"
   ]
  },
  {
   "cell_type": "code",
   "execution_count": 220,
   "metadata": {},
   "outputs": [
    {
     "name": "stdout",
     "output_type": "stream",
     "text": [
      "101\n",
      "Current Input: 0\n",
      "Input: Index 0 Value 39 Range 15\n",
      "Output: Index 3 Value 28 Range 22\n",
      "\n",
      "Current Input: 15\n",
      "Input: Index 1 Value 0 Range 35\n",
      "Output: Index 0 Value 42 Range 7\n",
      "\n",
      "Current Input: 22\n",
      "Input: Index 1 Value 7 Range 28\n",
      "Output: Index 1 Value 57 Range 4\n",
      "\n",
      "Current Input: 26\n",
      "Input: Index 1 Value 11 Range 24\n",
      "Output: Index 2 Value 0 Range 42\n",
      "\n",
      "Current Input: 50\n",
      "Input: Index 2 Value 37 Range 2\n",
      "Output: Index 3 Value 26 Range 24\n",
      "\n",
      "Current Input: 52\n",
      "Input: Index 3 Value 54 Range 46\n",
      "Output: Index 4 Value 50 Range 8\n",
      "\n",
      "Current Input: 98\n",
      "Input: Index 4 Value 35 Range 2\n",
      "Output: Index 3 Value 24 Range 26\n",
      "\n",
      "Current Input: 100\n",
      "Input: Index 5 Value 100 Range 1\n",
      "Output: Index 4 Value 100 Range -38\n",
      "\n",
      "Current Input: 101\n",
      "Input: Index 6 Value 101 Range 1\n",
      "Output: Index 4 Value 101 Range -39\n",
      "\n"
     ]
    }
   ],
   "source": [
    "brokenMap = mergeMaps(myMap, clean_map(sample_input_map[keys[2]]))"
   ]
  },
  {
   "cell_type": "code",
   "execution_count": 221,
   "metadata": {},
   "outputs": [
    {
     "name": "stdout",
     "output_type": "stream",
     "text": [
      "['0-14 -> 39-53', '15-49 -> 0-34', '50-51 -> 37-38', '52-97 -> 54-99', '98-99 -> 35-36', '100-100 -> 100-100', '101-101 -> 101-101']\n",
      "['0-6 -> 42-48', '7-10 -> 57-60', '11-52 -> 0-41', '53-60 -> 49-56', '61-61 -> 61-61']\n",
      "[[28, 0, 15], [42, 15, 7], [57, 22, 4], [0, 26, 24], [26, 50, 2], [50, 52, 46], [24, 98, 2], [100, 100, 1], [101, 101, 1], [102, 102, 1]]\n"
     ]
    }
   ],
   "source": [
    "print(printMap(myMap))\n",
    "print(printMap(clean_map(sample_input_map[keys[2]])))\n",
    "print(brokenMap)"
   ]
  }
 ],
 "metadata": {
  "kernelspec": {
   "display_name": "Python 3",
   "language": "python",
   "name": "python3"
  },
  "language_info": {
   "codemirror_mode": {
    "name": "ipython",
    "version": 3
   },
   "file_extension": ".py",
   "mimetype": "text/x-python",
   "name": "python",
   "nbconvert_exporter": "python",
   "pygments_lexer": "ipython3",
   "version": "3.11.2"
  }
 },
 "nbformat": 4,
 "nbformat_minor": 2
}
