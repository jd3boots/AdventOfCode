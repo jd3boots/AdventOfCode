{
 "cells": [
  {
   "cell_type": "code",
   "execution_count": 1,
   "metadata": {},
   "outputs": [],
   "source": [
    "def read_input(file_name):\n",
    "    with open(file_name, 'r') as file:\n",
    "        inputs = file.read().split('\\n\\n')\n",
    "        seeds, *inputs = [i.split(':') for i in inputs]\n",
    "        seeds = [int(seed) for seed in seeds[1].split(' ') if seed != '']\n",
    "        input_map = {key: [[int(i) for i in s.split()] for s in value.splitlines() if s != ''] for key, value in inputs}\n",
    "\n",
    "        return seeds, input_map"
   ]
  },
  {
   "cell_type": "code",
   "execution_count": 2,
   "metadata": {},
   "outputs": [],
   "source": [
    "keys = ['seed-to-soil map',\n",
    "'soil-to-fertilizer map',\n",
    "'fertilizer-to-water map',\n",
    "'water-to-light map',\n",
    "'light-to-temperature map',\n",
    "'temperature-to-humidity map',\n",
    "'humidity-to-location map']\n",
    "\n",
    "keys_reversed = ['seed-to-soil map',\n",
    "'soil-to-fertilizer map',\n",
    "'fertilizer-to-water map',\n",
    "'water-to-light map',\n",
    "'light-to-temperature map',\n",
    "'temperature-to-humidity map',\n",
    "'humidity-to-location map']\n",
    "keys_reversed.reverse()"
   ]
  },
  {
   "cell_type": "code",
   "execution_count": 3,
   "metadata": {},
   "outputs": [],
   "source": [
    "def get_value(input, map_data):\n",
    "    for i in keys:\n",
    "        data = map_data[i]\n",
    "        for point in data:\n",
    "            if point[1] <= input < point[1] + point[2]:\n",
    "                input = point[0] + input - point[1]\n",
    "                break\n",
    "    return input"
   ]
  },
  {
   "cell_type": "code",
   "execution_count": 4,
   "metadata": {},
   "outputs": [],
   "source": [
    "def get_value_reverse(input, map_data):\n",
    "    for i in keys_reversed:\n",
    "        data = map_data[i]\n",
    "        for point in data:\n",
    "            if point[0] <= input < point[0] + point[2]:\n",
    "                input = input + point[1] - point[0]\n",
    "                break\n",
    "    return input"
   ]
  },
  {
   "cell_type": "code",
   "execution_count": 5,
   "metadata": {},
   "outputs": [],
   "source": [
    "def find_seed(seeds, map_data):\n",
    "    for i in range(240320250):\n",
    "        result = get_value_reverse(i, map_data)\n",
    "        if any([seeds[i * 2] <= result < seeds[i * 2] + seeds[i * 2 + 1] for i in range(len(seeds) // 2)]):\n",
    "            break\n",
    "    return i"
   ]
  },
  {
   "cell_type": "code",
   "execution_count": 6,
   "metadata": {},
   "outputs": [],
   "source": [
    "seeds, map_data = read_input('input.txt')\n",
    "part1_result = min([get_value(seed, map_data) for seed in seeds])\n",
    "part2_result = find_seed(seeds, map_data)"
   ]
  },
  {
   "cell_type": "code",
   "execution_count": 8,
   "metadata": {},
   "outputs": [
    {
     "name": "stdout",
     "output_type": "stream",
     "text": [
      "240320250\n",
      "28580589\n"
     ]
    }
   ],
   "source": [
    "print(part1_result)\n",
    "print(part2_result)"
   ]
  }
 ],
 "metadata": {
  "kernelspec": {
   "display_name": "Python 3",
   "language": "python",
   "name": "python3"
  },
  "language_info": {
   "codemirror_mode": {
    "name": "ipython",
    "version": 3
   },
   "file_extension": ".py",
   "mimetype": "text/x-python",
   "name": "python",
   "nbconvert_exporter": "python",
   "pygments_lexer": "ipython3",
   "version": "3.11.2"
  }
 },
 "nbformat": 4,
 "nbformat_minor": 2
}
