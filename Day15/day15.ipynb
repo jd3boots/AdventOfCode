{
 "cells": [
  {
   "cell_type": "code",
   "execution_count": 11,
   "metadata": {},
   "outputs": [],
   "source": [
    "def read_input(file_name):\n",
    "    with open(file_name, 'r') as file:\n",
    "        return file.read().replace('\\n', '').split(',')"
   ]
  },
  {
   "cell_type": "code",
   "execution_count": 64,
   "metadata": {},
   "outputs": [],
   "source": [
    "def value_of_string(s):\n",
    "    result = 0\n",
    "    for c in s:\n",
    "        result += ord(c)\n",
    "        result *= 17\n",
    "        result %= 256\n",
    "    return result"
   ]
  },
  {
   "cell_type": "code",
   "execution_count": 65,
   "metadata": {},
   "outputs": [],
   "source": [
    "def put_in_boxes(data):\n",
    "    boxes = [{} for _ in range(256)]\n",
    "\n",
    "    for code in data:\n",
    "        if '=' in code:\n",
    "            split_code = code.split('=')\n",
    "            hash_value = value_of_string(split_code[0])\n",
    "            boxes[hash_value][split_code[0]] = int(split_code[1])\n",
    "        elif '-' in code:\n",
    "            key_code = code.removesuffix('-')\n",
    "            hash_value = value_of_string(key_code)\n",
    "            if key_code in boxes[hash_value]:\n",
    "                boxes[hash_value].pop(key_code)\n",
    "    return boxes\n"
   ]
  },
  {
   "cell_type": "code",
   "execution_count": 66,
   "metadata": {},
   "outputs": [],
   "source": [
    "data = read_input('input.txt')\n",
    "boxes = put_in_boxes(data)\n",
    "part1_result = sum(value_of_string(s) for s in data)\n",
    "part2_result = sum([sum([(1 + box_i) * (1 + code_i) * box[code] for code_i, code in enumerate(box)]) for box_i, box in enumerate(boxes)])"
   ]
  },
  {
   "cell_type": "code",
   "execution_count": 67,
   "metadata": {},
   "outputs": [
    {
     "name": "stdout",
     "output_type": "stream",
     "text": [
      "512950\n",
      "247153\n"
     ]
    }
   ],
   "source": [
    "print(part1_result)\n",
    "print(part2_result)"
   ]
  }
 ],
 "metadata": {
  "kernelspec": {
   "display_name": "Python 3",
   "language": "python",
   "name": "python3"
  },
  "language_info": {
   "codemirror_mode": {
    "name": "ipython",
    "version": 3
   },
   "file_extension": ".py",
   "mimetype": "text/x-python",
   "name": "python",
   "nbconvert_exporter": "python",
   "pygments_lexer": "ipython3",
   "version": "3.11.2"
  }
 },
 "nbformat": 4,
 "nbformat_minor": 2
}
