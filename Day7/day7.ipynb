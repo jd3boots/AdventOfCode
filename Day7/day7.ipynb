{
 "cells": [
  {
   "cell_type": "code",
   "execution_count": 101,
   "metadata": {},
   "outputs": [],
   "source": [
    "with open(\"input.txt\", 'r') as file:\n",
    "    inputs = file.read().splitlines()\n",
    "\n",
    "with open(\"sample_input.txt\", 'r') as file:\n",
    "    sampleInput = file.read().splitlines()"
   ]
  },
  {
   "cell_type": "code",
   "execution_count": 102,
   "metadata": {},
   "outputs": [],
   "source": [
    "def rank_hand(hand):\n",
    "    counts = [hand.count(card) for card in set(hand)]\n",
    "    \n",
    "    if max(counts) == 5:\n",
    "        return 7\n",
    "    elif 4 in counts:\n",
    "        return 6\n",
    "    elif len(set(hand)) == 2:\n",
    "        return 5\n",
    "    elif 3 in counts:\n",
    "        return 4\n",
    "    elif len(set(hand)) == 3 and 2 in counts:\n",
    "        return 3\n",
    "    elif 2 in counts:\n",
    "        return 2\n",
    "    else:\n",
    "        return 1\n",
    "\n",
    "card_values = {'T': 10, 'J': -1, 'Q': 12, 'K': 13, 'A': 14}\n",
    "def score_card(card):\n",
    "    return card_values.get(card, int(card) if card.isdigit() else None) - 2\n",
    "\n",
    "def score_cards(hand):\n",
    "    return sum(score_card(card) * 13 ** (len(hand) - i - 1) for i, card in enumerate(hand['Hand'])) + hand['Rank'] * 13 ** len(hand)"
   ]
  },
  {
   "cell_type": "code",
   "execution_count": 103,
   "metadata": {},
   "outputs": [
    {
     "data": {
      "text/plain": [
       "248963374"
      ]
     },
     "execution_count": 103,
     "metadata": {},
     "output_type": "execute_result"
    }
   ],
   "source": [
    "hands = [{'Hand': i.split(' ')[0], 'Bet': int(i.split(' ')[1]), 'Rank': rank_hand(i.split(' ')[0])} for i in inputs]\n",
    "sortedHands = sorted(hands, key=score_cards)\n",
    "sum([(i + 1) * hand['Bet'] for i, hand in enumerate(sortedHands)])"
   ]
  },
  {
   "cell_type": "code",
   "execution_count": 108,
   "metadata": {},
   "outputs": [],
   "source": [
    "def wild_rank_hand(hand):\n",
    "    if hand.count('J') == 5:\n",
    "        return rank_hand(hand)\n",
    "    \n",
    "    #cards = [str(i) for i in range(2, 10)] + ['T', 'Q', 'K', 'A']\n",
    "    nonjack_hand = hand.replace('J', '')\n",
    "    wild_hand = hand.replace('J', max(set(nonjack_hand), key=nonjack_hand.count))\n",
    "    return rank_hand(wild_hand)\n",
    "    \n",
    "wild_card_values = {'T': 10, 'J': 1, 'Q': 12, 'K': 13, 'A': 14}\n",
    "def wild_score_card(card):\n",
    "    return wild_card_values.get(card, int(card) if card.isdigit() else None) - 1\n",
    "\n",
    "def wild_score_cards(hand):\n",
    "    return sum(wild_score_card(card) * 14 ** (len(hand) - i - 1) for i, card in enumerate(hand['Hand'])) + hand['Rank'] * 14 ** len(hand)"
   ]
  },
  {
   "cell_type": "code",
   "execution_count": 109,
   "metadata": {},
   "outputs": [
    {
     "data": {
      "text/plain": [
       "250057090"
      ]
     },
     "execution_count": 109,
     "metadata": {},
     "output_type": "execute_result"
    }
   ],
   "source": [
    "hands = [{'Hand': i.split(' ')[0], 'Bet': int(i.split(' ')[1]), 'Rank': wild_rank_hand(i.split(' ')[0])} for i in inputs]\n",
    "sortedHands = sorted(hands, key=wild_score_cards)\n",
    "sum([(i + 1) * hand['Bet'] for i, hand in enumerate(sortedHands)])"
   ]
  }
 ],
 "metadata": {
  "kernelspec": {
   "display_name": "Python 3",
   "language": "python",
   "name": "python3"
  },
  "language_info": {
   "codemirror_mode": {
    "name": "ipython",
    "version": 3
   },
   "file_extension": ".py",
   "mimetype": "text/x-python",
   "name": "python",
   "nbconvert_exporter": "python",
   "pygments_lexer": "ipython3",
   "version": "3.11.2"
  }
 },
 "nbformat": 4,
 "nbformat_minor": 2
}
