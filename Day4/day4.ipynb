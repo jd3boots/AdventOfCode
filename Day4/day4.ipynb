{
 "cells": [
  {
   "cell_type": "code",
   "execution_count": 1,
   "metadata": {},
   "outputs": [],
   "source": [
    "with open(\"input.txt\", 'r') as file:\n",
    "    inputs = file.read().splitlines()\n",
    "\n",
    "with open(\"sample_input.txt\", 'r') as file:\n",
    "    sampleInput = file.read().splitlines()"
   ]
  },
  {
   "cell_type": "code",
   "execution_count": 2,
   "metadata": {},
   "outputs": [],
   "source": [
    "def scoreGame(game):\n",
    "    game = game.split(\": \")[1]\n",
    "    game = game.split(\" | \")\n",
    "\n",
    "    game[0] = [num for num in game[0].split(' ') if num != '']\n",
    "    game[1] = [num for num in game[1].split(' ') if num != '']\n",
    "\n",
    "    winningNums = len([num for num in game[1] if num in game[0]])\n",
    "\n",
    "    if winningNums == 0:\n",
    "        return 0\n",
    "\n",
    "    return 2 ** (winningNums - 1)"
   ]
  },
  {
   "cell_type": "code",
   "execution_count": 3,
   "metadata": {},
   "outputs": [
    {
     "data": {
      "text/plain": [
       "23028"
      ]
     },
     "execution_count": 3,
     "metadata": {},
     "output_type": "execute_result"
    }
   ],
   "source": [
    "sum([scoreGame(game) for game in inputs])"
   ]
  },
  {
   "cell_type": "code",
   "execution_count": 4,
   "metadata": {},
   "outputs": [],
   "source": [
    "def winningScoreCards(game):\n",
    "    game = game.split(\": \")[1]\n",
    "    game = game.split(\" | \")\n",
    "\n",
    "    game[0] = [num for num in game[0].split(' ') if num != '']\n",
    "    game[1] = [num for num in game[1].split(' ') if num != '']\n",
    "\n",
    "    return len([num for num in game[1] if num in game[0]])"
   ]
  },
  {
   "cell_type": "code",
   "execution_count": 5,
   "metadata": {},
   "outputs": [
    {
     "data": {
      "text/plain": [
       "9236992"
      ]
     },
     "execution_count": 5,
     "metadata": {},
     "output_type": "execute_result"
    }
   ],
   "source": [
    "scoreCardWins = [winningScoreCards(game) for game in inputs]\n",
    "\n",
    "scoreCards = [1] * len(scoreCardWins)\n",
    "\n",
    "for i in range(len(scoreCards)):\n",
    "    for j in range(i + 1, i + scoreCardWins[i] + 1):\n",
    "        scoreCards[j] += scoreCards[i]\n",
    "\n",
    "sum(scoreCards)"
   ]
  }
 ],
 "metadata": {
  "kernelspec": {
   "display_name": "Python 3",
   "language": "python",
   "name": "python3"
  },
  "language_info": {
   "codemirror_mode": {
    "name": "ipython",
    "version": 3
   },
   "file_extension": ".py",
   "mimetype": "text/x-python",
   "name": "python",
   "nbconvert_exporter": "python",
   "pygments_lexer": "ipython3",
   "version": "3.11.2"
  }
 },
 "nbformat": 4,
 "nbformat_minor": 2
}
