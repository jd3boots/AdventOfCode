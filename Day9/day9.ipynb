{
 "cells": [
  {
   "cell_type": "code",
   "execution_count": 1,
   "metadata": {},
   "outputs": [],
   "source": [
    "def read_input(file_name):\n",
    "    with open(file_name, 'r') as file:\n",
    "        inputs = file.read().splitlines()\n",
    "        return [list(map(lambda y: int(y), x.split(\" \"))) for x in inputs]"
   ]
  },
  {
   "cell_type": "code",
   "execution_count": 2,
   "metadata": {},
   "outputs": [],
   "source": [
    "def predict_next_value(values):\n",
    "    if not any(values):\n",
    "        return 0\n",
    "    return values[len(values) - 1] + predict_next_value([second - first for first, second in zip(values, values[1:])])\n",
    "        \n",
    "def get_results_part1(file_name):\n",
    "    list_of_values = read_input(file_name)\n",
    "    return sum([predict_next_value(values) for values in list_of_values])"
   ]
  },
  {
   "cell_type": "code",
   "execution_count": 3,
   "metadata": {},
   "outputs": [],
   "source": [
    "def predict_prev_value(values):\n",
    "    if not any(values):\n",
    "        return 0\n",
    "    return values[0] - predict_prev_value([second - first for first, second in zip(values, values[1:])])\n",
    "\n",
    "def get_results_part2(file_name):\n",
    "    list_of_values = read_input(file_name)\n",
    "    return sum([predict_prev_value(values) for values in list_of_values])"
   ]
  },
  {
   "cell_type": "code",
   "execution_count": 4,
   "metadata": {},
   "outputs": [
    {
     "name": "stdout",
     "output_type": "stream",
     "text": [
      "114\n",
      "1921197370\n",
      "2\n",
      "1124\n"
     ]
    }
   ],
   "source": [
    "print(get_results_part1('sample_input.txt'))\n",
    "print(get_results_part1('input.txt'))\n",
    "print(get_results_part2('sample_input.txt'))\n",
    "print(get_results_part2('input.txt'))"
   ]
  }
 ],
 "metadata": {
  "kernelspec": {
   "display_name": "Python 3",
   "language": "python",
   "name": "python3"
  },
  "language_info": {
   "codemirror_mode": {
    "name": "ipython",
    "version": 3
   },
   "file_extension": ".py",
   "mimetype": "text/x-python",
   "name": "python",
   "nbconvert_exporter": "python",
   "pygments_lexer": "ipython3",
   "version": "3.11.2"
  }
 },
 "nbformat": 4,
 "nbformat_minor": 2
}
