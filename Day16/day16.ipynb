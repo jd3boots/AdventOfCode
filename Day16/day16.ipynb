{
 "cells": [
  {
   "cell_type": "code",
   "execution_count": 1,
   "metadata": {},
   "outputs": [],
   "source": [
    "import sys\n",
    "\n",
    "sys.setrecursionlimit(1000000)"
   ]
  },
  {
   "cell_type": "code",
   "execution_count": 2,
   "metadata": {},
   "outputs": [],
   "source": [
    "def read_input(file_name):\n",
    "    with open(file_name, 'r') as file:\n",
    "        return file.read().splitlines()"
   ]
  },
  {
   "cell_type": "code",
   "execution_count": 3,
   "metadata": {},
   "outputs": [],
   "source": [
    "N, E, S, W = (-1,0), (0,1), (1,0), (0,-1)\n",
    "\n",
    "beam_to_direction = {\n",
    "    '.': lambda x : [x], \n",
    "    '/': lambda x : [(-x[1], -x[0])],\n",
    "    '\\\\': lambda x : [(x[1], x[0])],\n",
    "    '|': lambda x : [x] if x == N or x == S else [N, S],\n",
    "    '-': lambda x : [x] if x == E or x == W else [E, W]\n",
    "}"
   ]
  },
  {
   "cell_type": "code",
   "execution_count": 6,
   "metadata": {},
   "outputs": [],
   "source": [
    "def move_beam(coord, dir, data, result, tiles):\n",
    "    if hash(coord + dir) in result:\n",
    "        return\n",
    "    \n",
    "    result.append(hash(coord + dir))\n",
    "    tiles.append(hash(coord))\n",
    "\n",
    "    beam = data[coord[0]][coord[1]]\n",
    "    next_dirs = beam_to_direction[beam](dir)\n",
    "\n",
    "    for n_dir in next_dirs:\n",
    "        n_coord = tuple(x + y for x, y in zip(coord, n_dir))\n",
    "        if 0 <= n_coord[0] < nrows and 0 <= n_coord[1] < ncols:\n",
    "            move_beam(n_coord, n_dir, data, result, tiles)\n",
    "    return len(set(tiles))"
   ]
  },
  {
   "cell_type": "code",
   "execution_count": 12,
   "metadata": {},
   "outputs": [
    {
     "data": {
      "text/plain": [
       "6795"
      ]
     },
     "execution_count": 12,
     "metadata": {},
     "output_type": "execute_result"
    }
   ],
   "source": [
    "data = read_input('input.txt')\n",
    "nrows, ncols = len(data), len(data[0])\n",
    "results = []\n",
    "tiles = []\n",
    "move_beam((0,0), E, data, results, tiles)"
   ]
  },
  {
   "cell_type": "code",
   "execution_count": 8,
   "metadata": {},
   "outputs": [
    {
     "data": {
      "text/plain": [
       "7154"
      ]
     },
     "execution_count": 8,
     "metadata": {},
     "output_type": "execute_result"
    }
   ],
   "source": [
    "rs = []\n",
    "for row in range(nrows):\n",
    "    rs.append(move_beam((row, 0),          E, data, [], []))\n",
    "    rs.append(move_beam((row, ncols - 1),  W, data, [], []))\n",
    "\n",
    "for col in range(ncols):\n",
    "    rs.append(move_beam((0,         col),  S, data, [], []))\n",
    "    rs.append(move_beam((nrows - 1, col),  N, data, [], []))\n",
    "\n",
    "max(rs)"
   ]
  }
 ],
 "metadata": {
  "kernelspec": {
   "display_name": "Python 3",
   "language": "python",
   "name": "python3"
  },
  "language_info": {
   "codemirror_mode": {
    "name": "ipython",
    "version": 3
   },
   "file_extension": ".py",
   "mimetype": "text/x-python",
   "name": "python",
   "nbconvert_exporter": "python",
   "pygments_lexer": "ipython3",
   "version": "3.11.2"
  }
 },
 "nbformat": 4,
 "nbformat_minor": 2
}
