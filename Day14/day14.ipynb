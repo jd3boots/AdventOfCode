{
 "cells": [
  {
   "cell_type": "code",
   "execution_count": 1,
   "metadata": {},
   "outputs": [],
   "source": [
    "def read_input(file_name):\n",
    "    with open(file_name, 'r') as file:\n",
    "        return file.read().splitlines()"
   ]
  },
  {
   "cell_type": "code",
   "execution_count": 5,
   "metadata": {},
   "outputs": [],
   "source": [
    "def calculate_total_load(data):\n",
    "    result = 0\n",
    "    n_rows, n_cols = len(data), len(data[0])\n",
    "\n",
    "    for col in range(n_cols):\n",
    "        first_free_space = 0\n",
    "        for row in range(n_rows):\n",
    "            if data[row][col] == 'O':\n",
    "                result += n_rows - first_free_space \n",
    "                first_free_space += 1\n",
    "            elif data[row][col] == '#':\n",
    "                first_free_space = row + 1\n",
    "    return result"
   ]
  },
  {
   "cell_type": "code",
   "execution_count": 8,
   "metadata": {},
   "outputs": [
    {
     "data": {
      "text/plain": [
       "106378"
      ]
     },
     "execution_count": 8,
     "metadata": {},
     "output_type": "execute_result"
    }
   ],
   "source": [
    "data = read_input('input.txt')\n",
    "calculate_total_load(data)"
   ]
  },
  {
   "cell_type": "code",
   "execution_count": null,
   "metadata": {},
   "outputs": [],
   "source": [
    "def cycle_until_duplicate(data):\n",
    "    #input_tried = []\n",
    "\n",
    "    for i in range(10000):\n",
    "        for _ in range(4):\n",
    "                #if data in input_tried:\n",
    "                #    return data\n",
    "                #input_tried.append(data)\n",
    "                data = move_north(data)\n",
    "                data = [''.join(reversed(column)) for column in zip(*data)]\n",
    "\n",
    "    return data #, input_tried"
   ]
  },
  {
   "cell_type": "code",
   "execution_count": 409,
   "metadata": {},
   "outputs": [],
   "source": [
    "def replace_string(char, index, s):\n",
    "    return s[:index] + char + s[index+1:]\n",
    "\n",
    "\n",
    "def move_north(data):\n",
    "    n_rows, n_cols = len(data), len(data[0])\n",
    "\n",
    "    for col in range(n_cols):\n",
    "        first_free_space = 0\n",
    "        for row in range(n_rows):\n",
    "            if data[row][col] == 'O':\n",
    "                data[row] = replace_string('.', col, data[row])\n",
    "                data[first_free_space] = replace_string('O', col, data[first_free_space])\n",
    "                first_free_space += 1\n",
    "            elif data[row][col] == '#':\n",
    "                first_free_space = row + 1\n",
    "    return data\n",
    "\n",
    "\n",
    "\n",
    "\n",
    "\n",
    "\n",
    "def cycle(data, input_tried):\n",
    "    for _ in range(4):\n",
    "        if data in input_tried:\n",
    "            return data\n",
    "        input_tried.append(data)\n",
    "        data = move_north(data)\n",
    "        data = [''.join(reversed(column)) for column in zip(*data)]\n",
    "    return data\n",
    "\n",
    "def cycle_until_duplicate(data):\n",
    "    for i in range(1000000):\n",
    "        for _ in range(4):\n",
    "                data = move_north(data)\n",
    "                data = [''.join(reversed(column)) for column in zip(*data)]\n",
    "\n",
    "    return data\n"
   ]
  },
  {
   "cell_type": "code",
   "execution_count": 470,
   "metadata": {},
   "outputs": [],
   "source": [
    "def move_north_2(round_stones, square_stones, n_cols):\n",
    "    free_spaces = [[0] for _ in range(n_cols)]\n",
    "    [free_spaces[stone[1]].append(stone[0] + 1) for stone in square_stones if (stone[0] + 1, stone[1]) not in square_stones]\n",
    "\n",
    "    results = []\n",
    "    for stone in round_stones:\n",
    "        first_free_space = max((n for n in free_spaces[stone[1]] if n <= stone[0]), default=None)\n",
    "        results.append((first_free_space, stone[1]))\n",
    "\n",
    "        if first_free_space + 1 in free_spaces[stone[1]]:\n",
    "            free_spaces[stone[1]].remove(first_free_space)\n",
    "        else:\n",
    "            free_spaces[stone[1]][free_spaces[stone[1]].index(first_free_space)] += 1\n",
    "    return tuple(sorted(results, key=lambda x: x[1]))\n",
    "\n",
    "def cycle_2(data):\n",
    "    n_rows, n_cols = len(data), len(data[0])\n",
    "\n",
    "    round_stones = tuple((row, col) for row in range(n_rows) for col in range(n_cols) if data[row][col] == 'O')\n",
    "    square_stones = tuple((row, col) for row in range(n_rows) for col in range(n_cols) if data[row][col] == '#')\n",
    "\n",
    "    inputs_tried = []\n",
    "    for i in range(118):\n",
    "        for _ in range(4):\n",
    "            round_stones = move_north_2(round_stones, square_stones, n_cols)\n",
    "            round_stones = tuple((s[1], n_rows - s[0] - 1) for s in round_stones) \n",
    "            square_stones = tuple((s[1], n_rows - s[0] - 1) for s in square_stones)\n",
    "            n_rows, n_cols = n_cols, n_rows\n",
    "        \n",
    "        if hash(round_stones) in inputs_tried:\n",
    "            return inputs_tried.index(hash(round_stones)), i\n",
    "        inputs_tried.append(hash(round_stones))\n",
    "    return round_stones"
   ]
  },
  {
   "cell_type": "code",
   "execution_count": 464,
   "metadata": {},
   "outputs": [
    {
     "data": {
      "text/plain": [
       "64"
      ]
     },
     "execution_count": 464,
     "metadata": {},
     "output_type": "execute_result"
    }
   ],
   "source": [
    "data = read_input('sample_input.txt')\n",
    "results = cycle_2(data)\n",
    "sum([len(data) - stone[0] for stone in results])"
   ]
  },
  {
   "cell_type": "code",
   "execution_count": 471,
   "metadata": {},
   "outputs": [
    {
     "data": {
      "text/plain": [
       "90795"
      ]
     },
     "execution_count": 471,
     "metadata": {},
     "output_type": "execute_result"
    }
   ],
   "source": [
    "data = read_input('input.txt')\n",
    "results = cycle_2(data)\n",
    "sum([len(data) - stone[0] for stone in results])"
   ]
  },
  {
   "cell_type": "code",
   "execution_count": 495,
   "metadata": {},
   "outputs": [],
   "source": [
    "data = read_input('input.txt')\n",
    "n_rows, n_cols = len(data), len(data[0])\n",
    "round_stones = tuple((row, col) for row in range(n_rows) for col in range(n_cols) if data[row][col] == 'O')\n",
    "square_stones = tuple((row, col) for row in range(n_rows) for col in range(n_cols) if data[row][col] == '#')"
   ]
  },
  {
   "cell_type": "code",
   "execution_count": 497,
   "metadata": {},
   "outputs": [
    {
     "data": {
      "text/plain": [
       "1983"
      ]
     },
     "execution_count": 497,
     "metadata": {},
     "output_type": "execute_result"
    }
   ],
   "source": [
    "len(round_stones)"
   ]
  },
  {
   "cell_type": "code",
   "execution_count": 498,
   "metadata": {},
   "outputs": [
    {
     "data": {
      "text/plain": [
       "1617"
      ]
     },
     "execution_count": 498,
     "metadata": {},
     "output_type": "execute_result"
    }
   ],
   "source": [
    "len(square_stones)"
   ]
  },
  {
   "cell_type": "code",
   "execution_count": 140,
   "metadata": {},
   "outputs": [
    {
     "data": {
      "text/plain": [
       "['OOOO.#.O.. 10',\n",
       " 'OO..#....#  9',\n",
       " 'OO..O##..O  8',\n",
       " 'O..#.OO...  7',\n",
       " '........#.  6',\n",
       " '..#....#.#  5',\n",
       " '..O..#.O.O  4',\n",
       " '..O.......  3',\n",
       " '#....###..  2',\n",
       " '#....#....  1']"
      ]
     },
     "execution_count": 140,
     "metadata": {},
     "output_type": "execute_result"
    }
   ],
   "source": [
    "flipped_data = []\n",
    "\n",
    "n_rows, n_cols = len(data), len(data[0])\n",
    "\n",
    "for col in range(n_cols):\n",
    "    new_string = ''\n",
    "    for row in range(n_rows):\n",
    "        new_string += data[row][col]\n",
    "    flipped_data.insert(0,new_string)\n",
    "\n",
    "data = flipped_data\n",
    "data"
   ]
  },
  {
   "cell_type": "code",
   "execution_count": 407,
   "metadata": {},
   "outputs": [
    {
     "data": {
      "text/plain": [
       "[[0, 3, 6], [0], [0], [0], [0]]"
      ]
     },
     "execution_count": 407,
     "metadata": {},
     "output_type": "execute_result"
    }
   ],
   "source": [
    "free_spaces = [[0] for _ in range(5)]\n",
    "square_stones = [(1, 0), (2, 0), (5, 0)]\n",
    "[free_spaces[stone[1]].append(stone[0] + 1) for stone in square_stones if (stone[0] + 1, stone[1]) not in square_stones]\n",
    "free_spaces"
   ]
  },
  {
   "cell_type": "code",
   "execution_count": 401,
   "metadata": {},
   "outputs": [
    {
     "data": {
      "text/plain": [
       "[[0], [0], [0], [0], [0]]"
      ]
     },
     "execution_count": 401,
     "metadata": {},
     "output_type": "execute_result"
    }
   ],
   "source": [
    "[[0]] * 5"
   ]
  }
 ],
 "metadata": {
  "kernelspec": {
   "display_name": "Python 3",
   "language": "python",
   "name": "python3"
  },
  "language_info": {
   "codemirror_mode": {
    "name": "ipython",
    "version": 3
   },
   "file_extension": ".py",
   "mimetype": "text/x-python",
   "name": "python",
   "nbconvert_exporter": "python",
   "pygments_lexer": "ipython3",
   "version": "3.11.2"
  }
 },
 "nbformat": 4,
 "nbformat_minor": 2
}
