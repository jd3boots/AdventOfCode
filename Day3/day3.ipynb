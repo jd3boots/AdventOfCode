{
 "cells": [
  {
   "cell_type": "code",
   "execution_count": 6,
   "metadata": {},
   "outputs": [],
   "source": [
    "with open(\"input.txt\", 'r') as file:\n",
    "    inputs = file.read().splitlines()"
   ]
  },
  {
   "cell_type": "code",
   "execution_count": 7,
   "metadata": {},
   "outputs": [],
   "source": [
    "def getNums():\n",
    "    nums = []\n",
    "    for y in range(len(inputs)):\n",
    "        row = inputs[y]\n",
    "        curNum = ''\n",
    "\n",
    "        for x in range(len(row)):\n",
    "            c = row[x]\n",
    "\n",
    "            if c.isnumeric():\n",
    "                curNum += c\n",
    "            elif len(curNum) > 0:\n",
    "                nums.append({'num': curNum, 'x': x-1, 'y': y})\n",
    "                curNum = ''\n",
    "        \n",
    "        if len(curNum) > 0:\n",
    "                nums.append({'num': curNum, 'x': x-1, 'y': y})\n",
    "                curNum = ''\n",
    "    \n",
    "    return nums\n",
    "\n",
    "def validNum(num):\n",
    "    ybounds = [num['y'] - 1,                num['y'] + 1]\n",
    "    xbounds = [num['x'] - len(num['num']),  num['x'] + 1]\n",
    "\n",
    "    for y in range(ybounds[0], ybounds[1] + 1):\n",
    "        for x in range(xbounds[0], xbounds[1] + 1):\n",
    "            if ybounds[0] < y < ybounds[1] and xbounds[0] < x < xbounds[1]:\n",
    "                continue\n",
    "\n",
    "            if y < 0 or len(inputs) <= y or x < 0 or len(inputs[y]) <= x:\n",
    "                continue\n",
    "            \n",
    "            if (not inputs[y][x].isnumeric()) and inputs[y][x] != '.':\n",
    "                return True\n",
    "            \n",
    "    \n",
    "    return False"
   ]
  },
  {
   "cell_type": "code",
   "execution_count": 8,
   "metadata": {},
   "outputs": [
    {
     "data": {
      "text/plain": [
       "535351"
      ]
     },
     "execution_count": 8,
     "metadata": {},
     "output_type": "execute_result"
    }
   ],
   "source": [
    "nums = getNums()\n",
    "\n",
    "sum([int(num['num']) for num in nums if validNum(num)])"
   ]
  },
  {
   "cell_type": "code",
   "execution_count": 9,
   "metadata": {},
   "outputs": [],
   "source": [
    "def getGears():\n",
    "    gears = []\n",
    "    for y in range(len(inputs)):\n",
    "        row = inputs[y]\n",
    "\n",
    "        for x in range(len(row)):\n",
    "            if row[x] == '*':\n",
    "                gears.append({'x': x, 'y': y})\n",
    "    \n",
    "    return gears\n",
    "\n",
    "def inRange(gear, num):\n",
    "    return num['y'] - 1 <= gear['y'] <= num['y'] + 1 and num['x'] - len(num['num']) <= gear['x'] <= num['x'] + 1"
   ]
  },
  {
   "cell_type": "code",
   "execution_count": 10,
   "metadata": {},
   "outputs": [
    {
     "data": {
      "text/plain": [
       "87287096"
      ]
     },
     "execution_count": 10,
     "metadata": {},
     "output_type": "execute_result"
    }
   ],
   "source": [
    "gears = getGears()\n",
    "\n",
    "gearNums = [[num for num in nums if inRange(gear, num)] for gear in gears]\n",
    "sum([int(gearNum[0]['num']) * int(gearNum[1]['num']) for gearNum in gearNums if len(gearNum) == 2])"
   ]
  }
 ],
 "metadata": {
  "kernelspec": {
   "display_name": "Python 3",
   "language": "python",
   "name": "python3"
  },
  "language_info": {
   "codemirror_mode": {
    "name": "ipython",
    "version": 3
   },
   "file_extension": ".py",
   "mimetype": "text/x-python",
   "name": "python",
   "nbconvert_exporter": "python",
   "pygments_lexer": "ipython3",
   "version": "3.11.2"
  }
 },
 "nbformat": 4,
 "nbformat_minor": 2
}
