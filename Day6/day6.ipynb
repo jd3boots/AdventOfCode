{
 "cells": [
  {
   "cell_type": "code",
   "execution_count": 19,
   "metadata": {},
   "outputs": [],
   "source": [
    "import math"
   ]
  },
  {
   "cell_type": "code",
   "execution_count": 14,
   "metadata": {},
   "outputs": [],
   "source": [
    "with open(\"input.txt\", 'r') as file:\n",
    "    inputs = file.read().splitlines()\n",
    "    time = [int(t) for t in inputs[0].split(': ')[1].split(' ') if t != '']\n",
    "    dist = [int(t) for t in inputs[1].split(': ')[1].split(' ') if t != '']\n",
    "\n",
    "with open(\"sample_input.txt\", 'r') as file:\n",
    "    sampleInput = file.read().splitlines()\n",
    "    sample_time = [int(t) for t in sampleInput[0].split(': ')[1].split(' ') if t != '']\n",
    "    sample_dist = [int(t) for t in sampleInput[1].split(': ')[1].split(' ') if t != '']"
   ]
  },
  {
   "cell_type": "code",
   "execution_count": 29,
   "metadata": {},
   "outputs": [],
   "source": [
    "def get_distance(time_button_held, time):\n",
    "    return (time - time_button_held) * time_button_held\n",
    "\n",
    "def get_time_button_held(distance, time):\n",
    "    sqrtPart = math.sqrt(time ** 2 - 4 * distance)\n",
    "    return ((time - sqrtPart) / 2, (time + sqrtPart) / 2)\n",
    "\n"
   ]
  },
  {
   "cell_type": "code",
   "execution_count": 49,
   "metadata": {},
   "outputs": [],
   "source": [
    "def get_options(time, best_distance):\n",
    "    time_button_held = get_time_button_held(best_distance, time)\n",
    "    \n",
    "    max_time_button_held = int(time_button_held[1])\n",
    "    min_time_button_held = int(time_button_held[0])\n",
    "\n",
    "    if(time_button_held[1] == max_time_button_held):\n",
    "        max_time_button_held -= 1\n",
    "    \n",
    "    return max_time_button_held - min_time_button_held"
   ]
  },
  {
   "cell_type": "code",
   "execution_count": 52,
   "metadata": {},
   "outputs": [
    {
     "data": {
      "text/plain": [
       "288"
      ]
     },
     "execution_count": 52,
     "metadata": {},
     "output_type": "execute_result"
    }
   ],
   "source": [
    "math.prod([get_options(sample_time[i], sample_dist[i]) for i in range(len(sample_time))])"
   ]
  },
  {
   "cell_type": "code",
   "execution_count": 54,
   "metadata": {},
   "outputs": [
    {
     "data": {
      "text/plain": [
       "2065338"
      ]
     },
     "execution_count": 54,
     "metadata": {},
     "output_type": "execute_result"
    }
   ],
   "source": [
    "math.prod([get_options(time[i], dist[i]) for i in range(len(time))])"
   ]
  },
  {
   "cell_type": "code",
   "execution_count": 58,
   "metadata": {},
   "outputs": [
    {
     "data": {
      "text/plain": [
       "34934171"
      ]
     },
     "execution_count": 58,
     "metadata": {},
     "output_type": "execute_result"
    }
   ],
   "source": [
    "get_options(54817088, 446129210351007)"
   ]
  }
 ],
 "metadata": {
  "kernelspec": {
   "display_name": "Python 3",
   "language": "python",
   "name": "python3"
  },
  "language_info": {
   "codemirror_mode": {
    "name": "ipython",
    "version": 3
   },
   "file_extension": ".py",
   "mimetype": "text/x-python",
   "name": "python",
   "nbconvert_exporter": "python",
   "pygments_lexer": "ipython3",
   "version": "3.11.2"
  }
 },
 "nbformat": 4,
 "nbformat_minor": 2
}
