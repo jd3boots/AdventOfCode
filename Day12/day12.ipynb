{
 "cells": [
  {
   "cell_type": "code",
   "execution_count": 1,
   "metadata": {},
   "outputs": [],
   "source": [
    "from math import comb\n",
    "import functools"
   ]
  },
  {
   "cell_type": "code",
   "execution_count": 2,
   "metadata": {},
   "outputs": [],
   "source": [
    "def read_input(file_name):\n",
    "    with open(file_name, 'r') as file:\n",
    "        inputs = file.read().splitlines()\n",
    "        return [[j[0], [int(k) for k in j[1].split(',') ]] for j in [i.split() for i in inputs]]"
   ]
  },
  {
   "cell_type": "code",
   "execution_count": 16,
   "metadata": {},
   "outputs": [],
   "source": [
    "def try_all_comb(row):\n",
    "    pattern = row[0]\n",
    "    nums = row[1]\n",
    "\n",
    "    return try_next_num(pattern, tuple(num for num in nums))\n",
    "\n",
    "@functools.cache\n",
    "def try_next_num(pattern, nums):\n",
    "    if '#' not in pattern:\n",
    "        return get_non_hash_value(tuple(len(x) for x in pattern.split('.') if x != ''), tuple(num for num in nums))\n",
    "\n",
    "    result = 0\n",
    "    first_hash = pattern.index('#')\n",
    "    for k, num in enumerate(nums):\n",
    "        for i in range(num):\n",
    "            index = i + first_hash - num + 1\n",
    "            if 0 <= index and index + num <= len(pattern) and (index == 0 or pattern[index - 1] != '#') and (index + num == len(pattern) or pattern[index + num] != '#') and '.' not in pattern[index:index + num]:\n",
    "                r1 = try_next_num(pattern[:index - 1] if index > 0 else '', nums[:k])\n",
    "                r2 = 0 if r1 == 0 else try_next_num(pattern[index+num+1:], nums[k+1:])\n",
    "                result += r1 * r2\n",
    "    return result\n",
    "\n",
    "@functools.cache\n",
    "def get_non_hash_value(num_qs, nums):\n",
    "    if len(nums) == 0:\n",
    "        return 1\n",
    "    \n",
    "    result = 0  \n",
    "    for q_i, num_q in enumerate(num_qs):\n",
    "        filled_spaces = 0\n",
    "        cur_result = 0\n",
    "        for n_i, num in enumerate(nums):\n",
    "            if num + filled_spaces > num_q:\n",
    "                break\n",
    "\n",
    "            cur_result += comb(num_q - num - filled_spaces + n_i + 1, n_i + 1) * get_non_hash_value(num_qs[q_i + 1:], nums[n_i + 1:])\n",
    "\n",
    "            filled_spaces += num + 1\n",
    "        result += cur_result\n",
    "            \n",
    "    return result\n",
    "\n",
    "def unfold_input(row):\n",
    "    return ['?'.join([row[0]] * 5), row[1] * 5]"
   ]
  },
  {
   "cell_type": "code",
   "execution_count": 17,
   "metadata": {},
   "outputs": [],
   "source": [
    "result = read_input('input.txt')\n",
    "part1_results = sum([try_all_comb(r) for r in result])\n",
    "part2_results = sum([try_all_comb(unfold_input(r)) for r in result])"
   ]
  },
  {
   "cell_type": "code",
   "execution_count": 18,
   "metadata": {},
   "outputs": [
    {
     "name": "stdout",
     "output_type": "stream",
     "text": [
      "7670\n",
      "157383940585037\n"
     ]
    }
   ],
   "source": [
    "print(part1_results)\n",
    "print(part2_results)"
   ]
  }
 ],
 "metadata": {
  "kernelspec": {
   "display_name": "Python 3",
   "language": "python",
   "name": "python3"
  },
  "language_info": {
   "codemirror_mode": {
    "name": "ipython",
    "version": 3
   },
   "file_extension": ".py",
   "mimetype": "text/x-python",
   "name": "python",
   "nbconvert_exporter": "python",
   "pygments_lexer": "ipython3",
   "version": "3.11.2"
  }
 },
 "nbformat": 4,
 "nbformat_minor": 2
}
