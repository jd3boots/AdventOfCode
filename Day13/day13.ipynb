{
 "cells": [
  {
   "cell_type": "code",
   "execution_count": 2,
   "metadata": {},
   "outputs": [],
   "source": [
    "def read_input(file_name):\n",
    "    with open(file_name, 'r') as file:\n",
    "        inputs = file.read().split('\\n\\n')\n",
    "        return [m.splitlines() for m in inputs]"
   ]
  },
  {
   "cell_type": "code",
   "execution_count": 13,
   "metadata": {},
   "outputs": [],
   "source": [
    "def check_row(layout, row):\n",
    "    for j in range(0, min(row, len(layout) - row) ):\n",
    "        if layout[row - 1 - j] != layout[row + j]:\n",
    "            return False\n",
    "    return True\n",
    "\n",
    "def find_row(layout, past_value):\n",
    "    for row in range(1, len(layout)):\n",
    "        if row != past_value and check_row(layout, row):\n",
    "            return row\n",
    "    return -1\n",
    "                    \n",
    "def find_row_or_col(layout, past_value = -1):\n",
    "    row = find_row(layout, past_value/100 if past_value >= 100 else -1)\n",
    "    if row != -1:\n",
    "        return row * 100\n",
    "\n",
    "    col_layout = [''.join([d[i] for d in layout]) for i in range(len(layout[0]))]\n",
    "    return find_row(col_layout, past_value if past_value < 100 else -1)\n"
   ]
  },
  {
   "cell_type": "code",
   "execution_count": 14,
   "metadata": {},
   "outputs": [],
   "source": [
    "revese_sym = {'.': '#', '#': '.'}\n",
    "\n",
    "def replace_string(char, index, s):\n",
    "    return s[:index] + char + s[index+1:]\n",
    "\n",
    "def check_all_smudges(layout, past_result):\n",
    "    for row in range(len(layout)):\n",
    "        for col in range(len(layout[0])):\n",
    "            layout[row] = replace_string(revese_sym[layout[row][col]], col, layout[row]) \n",
    "            result = find_row_or_col(layout, past_result)           \n",
    "            if result != -1:\n",
    "                return result\n",
    "            layout[row] = replace_string(revese_sym[layout[row][col]], col, layout[row])"
   ]
  },
  {
   "cell_type": "code",
   "execution_count": 15,
   "metadata": {},
   "outputs": [],
   "source": [
    "data = read_input('input.txt')\n",
    "part1_results = [find_row_or_col(d) for d in data]\n",
    "part2_results = [check_all_smudges(d, part1_results[i]) for i, d in enumerate(data)]"
   ]
  },
  {
   "cell_type": "code",
   "execution_count": 16,
   "metadata": {},
   "outputs": [
    {
     "name": "stdout",
     "output_type": "stream",
     "text": [
      "37113\n",
      "30449\n"
     ]
    }
   ],
   "source": [
    "print(sum(part1_results))\n",
    "print(sum(part2_results))"
   ]
  }
 ],
 "metadata": {
  "kernelspec": {
   "display_name": "Python 3",
   "language": "python",
   "name": "python3"
  },
  "language_info": {
   "codemirror_mode": {
    "name": "ipython",
    "version": 3
   },
   "file_extension": ".py",
   "mimetype": "text/x-python",
   "name": "python",
   "nbconvert_exporter": "python",
   "pygments_lexer": "ipython3",
   "version": "3.11.2"
  }
 },
 "nbformat": 4,
 "nbformat_minor": 2
}
