{
 "cells": [
  {
   "cell_type": "code",
   "execution_count": 1,
   "metadata": {},
   "outputs": [],
   "source": [
    "import pandas as pd"
   ]
  },
  {
   "cell_type": "code",
   "execution_count": 2,
   "metadata": {},
   "outputs": [],
   "source": [
    "inputs = open(\"input.txt\", 'r').read().split(\"\\n\")"
   ]
  },
  {
   "cell_type": "code",
   "execution_count": 3,
   "metadata": {},
   "outputs": [],
   "source": [
    "def getFirstNum(s):\n",
    "    for c in s:\n",
    "        if c.isnumeric():\n",
    "            return c\n",
    "    return '0'\n",
    "\n",
    "def getNum(s):\n",
    "    return int(getFirstNum(s) + getFirstNum(s[::-1]))"
   ]
  },
  {
   "cell_type": "code",
   "execution_count": 4,
   "metadata": {},
   "outputs": [
    {
     "data": {
      "text/plain": [
       "53194"
      ]
     },
     "execution_count": 4,
     "metadata": {},
     "output_type": "execute_result"
    }
   ],
   "source": [
    "sum([getNum(x) for x in inputs])"
   ]
  },
  {
   "cell_type": "code",
   "execution_count": 5,
   "metadata": {},
   "outputs": [],
   "source": [
    "nums = ['one', 'two', 'three', 'four', 'five', 'six', 'seven', 'eight', 'nine']\n",
    "bnums = [num[::-1] for num in nums]\n",
    "\n",
    "def getFirstNumSpelled(s, nums):\n",
    "    for i in range(len(s)):\n",
    "        word = ''\n",
    "        for c in s[i:]:\n",
    "            if c.isnumeric():\n",
    "                return c\n",
    "            \n",
    "            word = word + c\n",
    "\n",
    "            index = next((i for i, w in enumerate(nums) if word == w), None)\n",
    "            if index is not None:\n",
    "                return str( index + 1 )\n",
    "\n",
    "            if not any([w.startswith(word) for w in nums]):\n",
    "                break\n",
    "\n",
    "    return '0'\n",
    "\n",
    "def getSpelledNum(s):\n",
    "    return int(getFirstNumSpelled(s, nums) + getFirstNumSpelled(s[::-1], bnums))"
   ]
  },
  {
   "cell_type": "code",
   "execution_count": 6,
   "metadata": {},
   "outputs": [
    {
     "data": {
      "text/plain": [
       "54249"
      ]
     },
     "execution_count": 6,
     "metadata": {},
     "output_type": "execute_result"
    }
   ],
   "source": [
    "sum([getSpelledNum(x) for x in inputs])"
   ]
  }
 ],
 "metadata": {
  "kernelspec": {
   "display_name": "Python 3",
   "language": "python",
   "name": "python3"
  },
  "language_info": {
   "codemirror_mode": {
    "name": "ipython",
    "version": 3
   },
   "file_extension": ".py",
   "mimetype": "text/x-python",
   "name": "python",
   "nbconvert_exporter": "python",
   "pygments_lexer": "ipython3",
   "version": "3.11.2"
  }
 },
 "nbformat": 4,
 "nbformat_minor": 2
}
